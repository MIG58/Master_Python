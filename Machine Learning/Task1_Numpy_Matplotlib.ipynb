{
 "cells": [
  {
   "cell_type": "code",
   "execution_count": 3,
   "metadata": {},
   "outputs": [
    {
     "name": "stdout",
     "output_type": "stream",
     "text": [
      "Hello\n"
     ]
    }
   ],
   "source": [
    "print(\"Hello\")"
   ]
  },
  {
   "cell_type": "markdown",
   "metadata": {},
   "source": [
    "# Numpy\n",
    "`pip install numpy`"
   ]
  },
  {
   "cell_type": "code",
   "execution_count": 16,
   "metadata": {},
   "outputs": [],
   "source": [
    "import numpy as np"
   ]
  },
  {
   "cell_type": "code",
   "execution_count": 5,
   "metadata": {},
   "outputs": [
    {
     "name": "stdout",
     "output_type": "stream",
     "text": [
      "[1.  2.  3.5 4.8]\n"
     ]
    }
   ],
   "source": [
    "x=[1,2,3.5,4.8]\n",
    "\n",
    "a=np.array(x)\n",
    "print(a)"
   ]
  },
  {
   "cell_type": "code",
   "execution_count": 6,
   "metadata": {},
   "outputs": [
    {
     "name": "stdout",
     "output_type": "stream",
     "text": [
      "[2.  4.  7.  9.6]\n"
     ]
    }
   ],
   "source": [
    "print(a*2)"
   ]
  },
  {
   "cell_type": "code",
   "execution_count": 7,
   "metadata": {},
   "outputs": [
    {
     "name": "stdout",
     "output_type": "stream",
     "text": [
      "[1 2 3 4 5 6 7 8 9]\n"
     ]
    }
   ],
   "source": [
    "x=np.arange(1,10)\n",
    "print(x)"
   ]
  },
  {
   "cell_type": "code",
   "execution_count": 8,
   "metadata": {},
   "outputs": [
    {
     "name": "stdout",
     "output_type": "stream",
     "text": [
      "[0. 1. 2. 3.]\n",
      "[0.1 0.2 0.3 0.4 0.5 0.6 0.7 0.8 0.9 1.  1.1]\n"
     ]
    }
   ],
   "source": [
    "x=np.arange(3.2)\n",
    "y=np.arange(0.1,1.2,0.1)\n",
    "print(x)\n",
    "print(y)"
   ]
  },
  {
   "cell_type": "markdown",
   "metadata": {},
   "source": [
    "## Numpy Array\n"
   ]
  },
  {
   "cell_type": "code",
   "execution_count": 9,
   "metadata": {},
   "outputs": [
    {
     "name": "stdout",
     "output_type": "stream",
     "text": [
      "[1 2 3 4]\n",
      "1\n",
      "[[1 1]\n",
      " [2 2]]\n",
      "2\n"
     ]
    }
   ],
   "source": [
    "a=np.array([1,2,3,4])\n",
    "b=np.array([[1,1],[2,2]])\n",
    "# c=np.array([1,1],[2,2])\n",
    "print(a)\n",
    "print(a.ndim) # Dimension\n",
    "print(b)\n",
    "print(b.ndim)"
   ]
  },
  {
   "cell_type": "code",
   "execution_count": 10,
   "metadata": {},
   "outputs": [
    {
     "data": {
      "text/plain": [
       "(2, 2)"
      ]
     },
     "execution_count": 10,
     "metadata": {},
     "output_type": "execute_result"
    }
   ],
   "source": [
    "np.shape(b)"
   ]
  },
  {
   "cell_type": "code",
   "execution_count": 11,
   "metadata": {},
   "outputs": [
    {
     "data": {
      "text/plain": [
       "(4,)"
      ]
     },
     "execution_count": 11,
     "metadata": {},
     "output_type": "execute_result"
    }
   ],
   "source": [
    "np.shape(a)"
   ]
  },
  {
   "cell_type": "markdown",
   "metadata": {},
   "source": [
    "## Indexing"
   ]
  },
  {
   "cell_type": "code",
   "execution_count": 12,
   "metadata": {},
   "outputs": [
    {
     "name": "stdout",
     "output_type": "stream",
     "text": [
      "[1 1]\n",
      "1\n",
      "[1 2 3]\n"
     ]
    }
   ],
   "source": [
    "print(b[0])\n",
    "print(b[0][1]) # I want to see the 1st Position element[0][1] of 1st listb[0]\n",
    "print(a[0:3])"
   ]
  },
  {
   "cell_type": "markdown",
   "metadata": {},
   "source": [
    "#### Generating random number \n"
   ]
  },
  {
   "cell_type": "code",
   "execution_count": 13,
   "metadata": {},
   "outputs": [
    {
     "name": "stdout",
     "output_type": "stream",
     "text": [
      "[[-0.73321934  0.141919    1.13896477 -0.81639373]\n",
      " [-0.93749784 -0.3843623   0.25707533 -0.37198697]\n",
      " [ 2.23475618  0.14678276  1.00988537 -0.00241922]\n",
      " [ 0.73303664  1.06318817  0.83826763  0.87631992]\n",
      " [-0.55397926 -2.06250837  0.19956759  0.2613349 ]\n",
      " [-0.36268005 -0.77131922 -0.718068   -0.15062253]]\n"
     ]
    }
   ],
   "source": [
    "a=np.random.randn(6,4) # If we dont give randn then only positive number will be showing. No negative numbers\n",
    "print(a)"
   ]
  },
  {
   "cell_type": "markdown",
   "metadata": {},
   "source": [
    "#### Generate a random array\n"
   ]
  },
  {
   "cell_type": "code",
   "execution_count": 17,
   "metadata": {},
   "outputs": [
    {
     "name": "stdout",
     "output_type": "stream",
     "text": [
      "[0.96100045 1.55415937 0.17225842 2.70760517 0.67021094 0.0344762\n",
      " 0.63769302]\n"
     ]
    }
   ],
   "source": [
    "a = np.random.randn(6, 4)  # This generates a random array with shape (6, 4)\n",
    "\n",
    "# Filter out positive numbers\n",
    "positive_numbers = a[a > 0]\n",
    "\n",
    "print(positive_numbers)"
   ]
  },
  {
   "cell_type": "markdown",
   "metadata": {},
   "source": [
    "# Matplotlib pyplot\n",
    "`pip install matplotlib`"
   ]
  },
  {
   "cell_type": "code",
   "execution_count": 1,
   "metadata": {},
   "outputs": [],
   "source": [
    "import matplotlib.pyplot as plt"
   ]
  },
  {
   "cell_type": "code",
   "execution_count": 2,
   "metadata": {},
   "outputs": [
    {
     "data": {
      "image/png": "[encoded data removed]",
      "text/plain": [
       "<Figure size 640x480 with 1 Axes>"
      ]
     },
     "metadata": {},
     "output_type": "display_data"
    }
   ],
   "source": [
    "k=[1.1,2.3,4.5,10.11]\n",
    "plt.plot(k)\n",
    "plt.ylabel(\"Temp\")\n",
    "plt.xlabel(\"Pressure\")\n",
    "plt.show()"
   ]
  },
  {
   "cell_type": "code",
   "execution_count": 3,
   "metadata": {},
   "outputs": [
    {
     "data": {
      "text/plain": [
       "<function matplotlib.pyplot.show(close=None, block=None)>"
      ]
     },
     "execution_count": 3,
     "metadata": {},
     "output_type": "execute_result"
    },
    {
     "data": {
      "image/png": "[encoded data removed]",
      "text/plain": [
       "<Figure size 640x480 with 1 Axes>"
      ]
     },
     "metadata": {},
     "output_type": "display_data"
    }
   ],
   "source": [
    "plt.plot([1,2,3,4],[1,4,9,16],'ro')\n",
    "plt.axis([0,5,0,16])\n",
    "plt.show"
   ]
  },
  {
   "cell_type": "code",
   "execution_count": 29,
   "metadata": {},
   "outputs": [
    {
     "data": {
      "text/plain": [
       "<function matplotlib.pyplot.show(close=None, block=None)>"
      ]
     },
     "execution_count": 29,
     "metadata": {},
     "output_type": "execute_result"
    },
    {
     "data": {
      "image/png": "[encoded data removed]",
      "text/plain": [
       "<Figure size 640x480 with 1 Axes>"
      ]
     },
     "metadata": {},
     "output_type": "display_data"
    }
   ],
   "source": [
    "\n",
    "plt.plot(a,a**2,'ro',a,a**3,'b^')\n",
    "plt.axis([0,5,0,5])\n",
    "plt.show"
   ]
  },
  {
   "cell_type": "markdown",
   "metadata": {},
   "source": [
    "# Pandas\n",
    "`pip install pandas`"
   ]
  },
  {
   "cell_type": "code",
   "execution_count": 9,
   "metadata": {},
   "outputs": [],
   "source": [
    "import pandas as pd\n",
    "import numpy as np\n",
    "import matplotlib.pyplot as plt"
   ]
  },
  {
   "cell_type": "code",
   "execution_count": 6,
   "metadata": {},
   "outputs": [
    {
     "name": "stdout",
     "output_type": "stream",
     "text": [
      "          A         B         C         D\n",
      "0  0.762962  0.986429  0.454167  0.707201\n",
      "1  0.020434  0.884030  0.328337  0.884426\n",
      "2  0.573866  0.706274  0.973441  0.183044\n",
      "3  0.522335  0.188237  0.745796  0.772575\n",
      "4  0.176883  0.731103  0.958394  0.028098\n",
      "5  0.440497  0.905002  0.795602  0.153683\n",
      "6  0.537239  0.706567  0.723805  0.829506\n",
      "7  0.043861  0.106833  0.098968  0.091241\n",
      "8  0.763986  0.911416  0.044102  0.745932\n",
      "9  0.876006  0.112769  0.899114  0.531436\n"
     ]
    }
   ],
   "source": [
    "# Creating a Dataframe\n",
    "df = pd.DataFrame(np.random.rand(10, 4), columns=['A', 'B', 'C', 'D'])  # 10x4\n",
    "print(df)"
   ]
  },
  {
   "cell_type": "code",
   "execution_count": 13,
   "metadata": {},
   "outputs": [
    {
     "name": "stdout",
     "output_type": "stream",
     "text": [
      "    A    B   C   D\n",
      "0  10   20  30  40\n",
      "1  20  100  40  50\n"
     ]
    }
   ],
   "source": [
    "# Creating a Dataframe with dictionary\n",
    "df2 = pd.DataFrame({'A':[10,20],'B':[20,100],'C':[30,40],'D':[40,50]})\n",
    "print(df2)"
   ]
  },
  {
   "cell_type": "code",
   "execution_count": 16,
   "metadata": {},
   "outputs": [
    {
     "data": {
      "text/plain": [
       "A    int64\n",
       "B    int64\n",
       "C    int64\n",
       "D    int64\n",
       "dtype: object"
      ]
     },
     "execution_count": 16,
     "metadata": {},
     "output_type": "execute_result"
    }
   ],
   "source": [
    "# looking at the variable types\n",
    "df2.dtypes"
   ]
  },
  {
   "cell_type": "code",
   "execution_count": 17,
   "metadata": {},
   "outputs": [
    {
     "data": {
      "text/html": [
       "<div>\n",
       "<style scoped>\n",
       "    .dataframe tbody tr th:only-of-type {\n",
       "        vertical-align: middle;\n",
       "    }\n",
       "\n",
       "    .dataframe tbody tr th {\n",
       "        vertical-align: top;\n",
       "    }\n",
       "\n",
       "    .dataframe thead th {\n",
       "        text-align: right;\n",
       "    }\n",
       "</style>\n",
       "<table border=\"1\" class=\"dataframe\">\n",
       "  <thead>\n",
       "    <tr style=\"text-align: right;\">\n",
       "      <th></th>\n",
       "      <th>A</th>\n",
       "      <th>B</th>\n",
       "      <th>C</th>\n",
       "      <th>D</th>\n",
       "    </tr>\n",
       "  </thead>\n",
       "  <tbody>\n",
       "    <tr>\n",
       "      <th>0</th>\n",
       "      <td>0.762962</td>\n",
       "      <td>0.986429</td>\n",
       "      <td>0.454167</td>\n",
       "      <td>0.707201</td>\n",
       "    </tr>\n",
       "    <tr>\n",
       "      <th>1</th>\n",
       "      <td>0.020434</td>\n",
       "      <td>0.884030</td>\n",
       "      <td>0.328337</td>\n",
       "      <td>0.884426</td>\n",
       "    </tr>\n",
       "    <tr>\n",
       "      <th>2</th>\n",
       "      <td>0.573866</td>\n",
       "      <td>0.706274</td>\n",
       "      <td>0.973441</td>\n",
       "      <td>0.183044</td>\n",
       "    </tr>\n",
       "    <tr>\n",
       "      <th>3</th>\n",
       "      <td>0.522335</td>\n",
       "      <td>0.188237</td>\n",
       "      <td>0.745796</td>\n",
       "      <td>0.772575</td>\n",
       "    </tr>\n",
       "    <tr>\n",
       "      <th>4</th>\n",
       "      <td>0.176883</td>\n",
       "      <td>0.731103</td>\n",
       "      <td>0.958394</td>\n",
       "      <td>0.028098</td>\n",
       "    </tr>\n",
       "  </tbody>\n",
       "</table>\n",
       "</div>"
      ],
      "text/plain": [
       "          A         B         C         D\n",
       "0  0.762962  0.986429  0.454167  0.707201\n",
       "1  0.020434  0.884030  0.328337  0.884426\n",
       "2  0.573866  0.706274  0.973441  0.183044\n",
       "3  0.522335  0.188237  0.745796  0.772575\n",
       "4  0.176883  0.731103  0.958394  0.028098"
      ]
     },
     "execution_count": 17,
     "metadata": {},
     "output_type": "execute_result"
    }
   ],
   "source": [
    "# looking at the top few values, default 5\n",
    "df.head()"
   ]
  },
  {
   "cell_type": "code",
   "execution_count": 18,
   "metadata": {},
   "outputs": [
    {
     "data": {
      "text/html": [
       "<div>\n",
       "<style scoped>\n",
       "    .dataframe tbody tr th:only-of-type {\n",
       "        vertical-align: middle;\n",
       "    }\n",
       "\n",
       "    .dataframe tbody tr th {\n",
       "        vertical-align: top;\n",
       "    }\n",
       "\n",
       "    .dataframe thead th {\n",
       "        text-align: right;\n",
       "    }\n",
       "</style>\n",
       "<table border=\"1\" class=\"dataframe\">\n",
       "  <thead>\n",
       "    <tr style=\"text-align: right;\">\n",
       "      <th></th>\n",
       "      <th>A</th>\n",
       "      <th>B</th>\n",
       "      <th>C</th>\n",
       "      <th>D</th>\n",
       "    </tr>\n",
       "  </thead>\n",
       "  <tbody>\n",
       "    <tr>\n",
       "      <th>5</th>\n",
       "      <td>0.440497</td>\n",
       "      <td>0.905002</td>\n",
       "      <td>0.795602</td>\n",
       "      <td>0.153683</td>\n",
       "    </tr>\n",
       "    <tr>\n",
       "      <th>6</th>\n",
       "      <td>0.537239</td>\n",
       "      <td>0.706567</td>\n",
       "      <td>0.723805</td>\n",
       "      <td>0.829506</td>\n",
       "    </tr>\n",
       "    <tr>\n",
       "      <th>7</th>\n",
       "      <td>0.043861</td>\n",
       "      <td>0.106833</td>\n",
       "      <td>0.098968</td>\n",
       "      <td>0.091241</td>\n",
       "    </tr>\n",
       "    <tr>\n",
       "      <th>8</th>\n",
       "      <td>0.763986</td>\n",
       "      <td>0.911416</td>\n",
       "      <td>0.044102</td>\n",
       "      <td>0.745932</td>\n",
       "    </tr>\n",
       "    <tr>\n",
       "      <th>9</th>\n",
       "      <td>0.876006</td>\n",
       "      <td>0.112769</td>\n",
       "      <td>0.899114</td>\n",
       "      <td>0.531436</td>\n",
       "    </tr>\n",
       "  </tbody>\n",
       "</table>\n",
       "</div>"
      ],
      "text/plain": [
       "          A         B         C         D\n",
       "5  0.440497  0.905002  0.795602  0.153683\n",
       "6  0.537239  0.706567  0.723805  0.829506\n",
       "7  0.043861  0.106833  0.098968  0.091241\n",
       "8  0.763986  0.911416  0.044102  0.745932\n",
       "9  0.876006  0.112769  0.899114  0.531436"
      ]
     },
     "execution_count": 18,
     "metadata": {},
     "output_type": "execute_result"
    }
   ],
   "source": [
    "# looking at the last few values\n",
    "df.tail()"
   ]
  },
  {
   "cell_type": "code",
   "execution_count": 19,
   "metadata": {},
   "outputs": [
    {
     "data": {
      "text/plain": [
       "RangeIndex(start=0, stop=10, step=1)"
      ]
     },
     "execution_count": 19,
     "metadata": {},
     "output_type": "execute_result"
    }
   ],
   "source": [
    "# To get the indexes\n",
    "df.index"
   ]
  },
  {
   "cell_type": "code",
   "execution_count": 20,
   "metadata": {},
   "outputs": [
    {
     "data": {
      "text/plain": [
       "Index(['A', 'B', 'C', 'D'], dtype='object')"
      ]
     },
     "execution_count": 20,
     "metadata": {},
     "output_type": "execute_result"
    }
   ],
   "source": [
    "# To get the column names\n",
    "df.columns"
   ]
  },
  {
   "cell_type": "code",
   "execution_count": 21,
   "metadata": {},
   "outputs": [
    {
     "data": {
      "text/plain": [
       "array([[0.76296227, 0.9864289 , 0.45416656, 0.7072007 ],\n",
       "       [0.02043426, 0.88403005, 0.328337  , 0.88442604],\n",
       "       [0.5738664 , 0.70627441, 0.97344145, 0.18304374],\n",
       "       [0.52233516, 0.1882375 , 0.7457958 , 0.77257535],\n",
       "       [0.1768828 , 0.73110308, 0.95839365, 0.02809835],\n",
       "       [0.44049653, 0.90500225, 0.7956017 , 0.15368255],\n",
       "       [0.53723879, 0.70656738, 0.72380482, 0.82950565],\n",
       "       [0.04386138, 0.10683273, 0.09896824, 0.09124143],\n",
       "       [0.76398555, 0.9114164 , 0.04410226, 0.74593234],\n",
       "       [0.87600608, 0.11276921, 0.89911378, 0.53143588]])"
      ]
     },
     "execution_count": 21,
     "metadata": {},
     "output_type": "execute_result"
    }
   ],
   "source": [
    "# To get the values\n",
    "df.values"
   ]
  },
  {
   "cell_type": "code",
   "execution_count": 22,
   "metadata": {},
   "outputs": [
    {
     "data": {
      "text/plain": [
       "<bound method NDFrame.describe of           A         B         C         D\n",
       "0  0.762962  0.986429  0.454167  0.707201\n",
       "1  0.020434  0.884030  0.328337  0.884426\n",
       "2  0.573866  0.706274  0.973441  0.183044\n",
       "3  0.522335  0.188237  0.745796  0.772575\n",
       "4  0.176883  0.731103  0.958394  0.028098\n",
       "5  0.440497  0.905002  0.795602  0.153683\n",
       "6  0.537239  0.706567  0.723805  0.829506\n",
       "7  0.043861  0.106833  0.098968  0.091241\n",
       "8  0.763986  0.911416  0.044102  0.745932\n",
       "9  0.876006  0.112769  0.899114  0.531436>"
      ]
     },
     "execution_count": 22,
     "metadata": {},
     "output_type": "execute_result"
    }
   ],
   "source": [
    "# To get a statistical summary of the DataFrame\n",
    "df.describe"
   ]
  },
  {
   "cell_type": "code",
   "execution_count": 23,
   "metadata": {},
   "outputs": [
    {
     "data": {
      "text/html": [
       "<div>\n",
       "<style scoped>\n",
       "    .dataframe tbody tr th:only-of-type {\n",
       "        vertical-align: middle;\n",
       "    }\n",
       "\n",
       "    .dataframe tbody tr th {\n",
       "        vertical-align: top;\n",
       "    }\n",
       "\n",
       "    .dataframe thead th {\n",
       "        text-align: right;\n",
       "    }\n",
       "</style>\n",
       "<table border=\"1\" class=\"dataframe\">\n",
       "  <thead>\n",
       "    <tr style=\"text-align: right;\">\n",
       "      <th></th>\n",
       "      <th>A</th>\n",
       "      <th>B</th>\n",
       "      <th>C</th>\n",
       "      <th>D</th>\n",
       "    </tr>\n",
       "  </thead>\n",
       "  <tbody>\n",
       "    <tr>\n",
       "      <th>9</th>\n",
       "      <td>0.876006</td>\n",
       "      <td>0.112769</td>\n",
       "      <td>0.899114</td>\n",
       "      <td>0.531436</td>\n",
       "    </tr>\n",
       "    <tr>\n",
       "      <th>8</th>\n",
       "      <td>0.763986</td>\n",
       "      <td>0.911416</td>\n",
       "      <td>0.044102</td>\n",
       "      <td>0.745932</td>\n",
       "    </tr>\n",
       "    <tr>\n",
       "      <th>7</th>\n",
       "      <td>0.043861</td>\n",
       "      <td>0.106833</td>\n",
       "      <td>0.098968</td>\n",
       "      <td>0.091241</td>\n",
       "    </tr>\n",
       "    <tr>\n",
       "      <th>6</th>\n",
       "      <td>0.537239</td>\n",
       "      <td>0.706567</td>\n",
       "      <td>0.723805</td>\n",
       "      <td>0.829506</td>\n",
       "    </tr>\n",
       "    <tr>\n",
       "      <th>5</th>\n",
       "      <td>0.440497</td>\n",
       "      <td>0.905002</td>\n",
       "      <td>0.795602</td>\n",
       "      <td>0.153683</td>\n",
       "    </tr>\n",
       "    <tr>\n",
       "      <th>4</th>\n",
       "      <td>0.176883</td>\n",
       "      <td>0.731103</td>\n",
       "      <td>0.958394</td>\n",
       "      <td>0.028098</td>\n",
       "    </tr>\n",
       "    <tr>\n",
       "      <th>3</th>\n",
       "      <td>0.522335</td>\n",
       "      <td>0.188237</td>\n",
       "      <td>0.745796</td>\n",
       "      <td>0.772575</td>\n",
       "    </tr>\n",
       "    <tr>\n",
       "      <th>2</th>\n",
       "      <td>0.573866</td>\n",
       "      <td>0.706274</td>\n",
       "      <td>0.973441</td>\n",
       "      <td>0.183044</td>\n",
       "    </tr>\n",
       "    <tr>\n",
       "      <th>1</th>\n",
       "      <td>0.020434</td>\n",
       "      <td>0.884030</td>\n",
       "      <td>0.328337</td>\n",
       "      <td>0.884426</td>\n",
       "    </tr>\n",
       "    <tr>\n",
       "      <th>0</th>\n",
       "      <td>0.762962</td>\n",
       "      <td>0.986429</td>\n",
       "      <td>0.454167</td>\n",
       "      <td>0.707201</td>\n",
       "    </tr>\n",
       "  </tbody>\n",
       "</table>\n",
       "</div>"
      ],
      "text/plain": [
       "          A         B         C         D\n",
       "9  0.876006  0.112769  0.899114  0.531436\n",
       "8  0.763986  0.911416  0.044102  0.745932\n",
       "7  0.043861  0.106833  0.098968  0.091241\n",
       "6  0.537239  0.706567  0.723805  0.829506\n",
       "5  0.440497  0.905002  0.795602  0.153683\n",
       "4  0.176883  0.731103  0.958394  0.028098\n",
       "3  0.522335  0.188237  0.745796  0.772575\n",
       "2  0.573866  0.706274  0.973441  0.183044\n",
       "1  0.020434  0.884030  0.328337  0.884426\n",
       "0  0.762962  0.986429  0.454167  0.707201"
      ]
     },
     "execution_count": 23,
     "metadata": {},
     "output_type": "execute_result"
    }
   ],
   "source": [
    "# For sorting the index\n",
    "df.sort_index(axis=0,ascending=False)"
   ]
  },
  {
   "cell_type": "code",
   "execution_count": 24,
   "metadata": {},
   "outputs": [
    {
     "data": {
      "text/html": [
       "<div>\n",
       "<style scoped>\n",
       "    .dataframe tbody tr th:only-of-type {\n",
       "        vertical-align: middle;\n",
       "    }\n",
       "\n",
       "    .dataframe tbody tr th {\n",
       "        vertical-align: top;\n",
       "    }\n",
       "\n",
       "    .dataframe thead th {\n",
       "        text-align: right;\n",
       "    }\n",
       "</style>\n",
       "<table border=\"1\" class=\"dataframe\">\n",
       "  <thead>\n",
       "    <tr style=\"text-align: right;\">\n",
       "      <th></th>\n",
       "      <th>A</th>\n",
       "      <th>B</th>\n",
       "      <th>C</th>\n",
       "      <th>D</th>\n",
       "    </tr>\n",
       "  </thead>\n",
       "  <tbody>\n",
       "    <tr>\n",
       "      <th>1</th>\n",
       "      <td>0.020434</td>\n",
       "      <td>0.884030</td>\n",
       "      <td>0.328337</td>\n",
       "      <td>0.884426</td>\n",
       "    </tr>\n",
       "    <tr>\n",
       "      <th>7</th>\n",
       "      <td>0.043861</td>\n",
       "      <td>0.106833</td>\n",
       "      <td>0.098968</td>\n",
       "      <td>0.091241</td>\n",
       "    </tr>\n",
       "    <tr>\n",
       "      <th>4</th>\n",
       "      <td>0.176883</td>\n",
       "      <td>0.731103</td>\n",
       "      <td>0.958394</td>\n",
       "      <td>0.028098</td>\n",
       "    </tr>\n",
       "    <tr>\n",
       "      <th>5</th>\n",
       "      <td>0.440497</td>\n",
       "      <td>0.905002</td>\n",
       "      <td>0.795602</td>\n",
       "      <td>0.153683</td>\n",
       "    </tr>\n",
       "    <tr>\n",
       "      <th>3</th>\n",
       "      <td>0.522335</td>\n",
       "      <td>0.188237</td>\n",
       "      <td>0.745796</td>\n",
       "      <td>0.772575</td>\n",
       "    </tr>\n",
       "    <tr>\n",
       "      <th>6</th>\n",
       "      <td>0.537239</td>\n",
       "      <td>0.706567</td>\n",
       "      <td>0.723805</td>\n",
       "      <td>0.829506</td>\n",
       "    </tr>\n",
       "    <tr>\n",
       "      <th>2</th>\n",
       "      <td>0.573866</td>\n",
       "      <td>0.706274</td>\n",
       "      <td>0.973441</td>\n",
       "      <td>0.183044</td>\n",
       "    </tr>\n",
       "    <tr>\n",
       "      <th>0</th>\n",
       "      <td>0.762962</td>\n",
       "      <td>0.986429</td>\n",
       "      <td>0.454167</td>\n",
       "      <td>0.707201</td>\n",
       "    </tr>\n",
       "    <tr>\n",
       "      <th>8</th>\n",
       "      <td>0.763986</td>\n",
       "      <td>0.911416</td>\n",
       "      <td>0.044102</td>\n",
       "      <td>0.745932</td>\n",
       "    </tr>\n",
       "    <tr>\n",
       "      <th>9</th>\n",
       "      <td>0.876006</td>\n",
       "      <td>0.112769</td>\n",
       "      <td>0.899114</td>\n",
       "      <td>0.531436</td>\n",
       "    </tr>\n",
       "  </tbody>\n",
       "</table>\n",
       "</div>"
      ],
      "text/plain": [
       "          A         B         C         D\n",
       "1  0.020434  0.884030  0.328337  0.884426\n",
       "7  0.043861  0.106833  0.098968  0.091241\n",
       "4  0.176883  0.731103  0.958394  0.028098\n",
       "5  0.440497  0.905002  0.795602  0.153683\n",
       "3  0.522335  0.188237  0.745796  0.772575\n",
       "6  0.537239  0.706567  0.723805  0.829506\n",
       "2  0.573866  0.706274  0.973441  0.183044\n",
       "0  0.762962  0.986429  0.454167  0.707201\n",
       "8  0.763986  0.911416  0.044102  0.745932\n",
       "9  0.876006  0.112769  0.899114  0.531436"
      ]
     },
     "execution_count": 24,
     "metadata": {},
     "output_type": "execute_result"
    }
   ],
   "source": [
    "# For sorting by a Column\n",
    "df.sort_values(by='A')"
   ]
  }
 ],
 "metadata": {
  "kernelspec": {
   "display_name": "Python_New",
   "language": "python",
   "name": "python3"
  },
  "language_info": {
   "codemirror_mode": {
    "name": "ipython",
    "version": 3
   },
   "file_extension": ".py",
   "mimetype": "text/x-python",
   "name": "python",
   "nbconvert_exporter": "python",
   "pygments_lexer": "ipython3",
   "version": "3.12.1"
  }
 },
 "nbformat": 4,
 "nbformat_minor": 2
}
