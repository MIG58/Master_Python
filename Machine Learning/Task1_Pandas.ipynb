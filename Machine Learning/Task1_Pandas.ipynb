{
 "cells": [
  {
   "cell_type": "markdown",
   "metadata": {},
   "source": [
    "# Pandas\n",
    "`pip install pandas`"
   ]
  },
  {
   "cell_type": "code",
   "execution_count": 1,
   "metadata": {},
   "outputs": [],
   "source": [
    "import pandas as pd\n",
    "import numpy as np\n",
    "import matplotlib.pyplot as plt"
   ]
  },
  {
   "cell_type": "markdown",
   "metadata": {},
   "source": [
    "#### Creating a Dataframe\n"
   ]
  },
  {
   "cell_type": "code",
   "execution_count": 2,
   "metadata": {},
   "outputs": [
    {
     "name": "stdout",
     "output_type": "stream",
     "text": [
      "          A         B         C         D\n",
      "0  0.642673  0.232544  0.364436  0.853916\n",
      "1  0.306394  0.441284  0.985583  0.315221\n",
      "2  0.194978  0.579345  0.649756  0.534179\n",
      "3  0.512704  0.937062  0.069745  0.863659\n",
      "4  0.283660  0.030515  0.071280  0.548678\n",
      "5  0.389815  0.811168  0.407324  0.863048\n",
      "6  0.426538  0.842496  0.245545  0.823362\n",
      "7  0.845586  0.186496  0.124647  0.678668\n",
      "8  0.566842  0.450344  0.650385  0.532239\n",
      "9  0.775233  0.948415  0.809952  0.850432\n"
     ]
    }
   ],
   "source": [
    "df = pd.DataFrame(np.random.rand(10, 4), columns=['A', 'B', 'C', 'D'])  #### 10x4\n",
    "print(df)"
   ]
  },
  {
   "cell_type": "markdown",
   "metadata": {},
   "source": [
    "#### Creating a Dataframe with dictionary\n"
   ]
  },
  {
   "cell_type": "code",
   "execution_count": 3,
   "metadata": {},
   "outputs": [
    {
     "name": "stdout",
     "output_type": "stream",
     "text": [
      "    A    B   C   D\n",
      "0  10   20  30  40\n",
      "1  20  100  40  50\n"
     ]
    }
   ],
   "source": [
    "df2 = pd.DataFrame({'A':[10,20],'B':[20,100],'C':[30,40],'D':[40,50]})\n",
    "print(df2)"
   ]
  },
  {
   "cell_type": "markdown",
   "metadata": {},
   "source": [
    "#### looking at the variable types\n"
   ]
  },
  {
   "cell_type": "code",
   "execution_count": 4,
   "metadata": {},
   "outputs": [
    {
     "data": {
      "text/plain": [
       "A    int64\n",
       "B    int64\n",
       "C    int64\n",
       "D    int64\n",
       "dtype: object"
      ]
     },
     "execution_count": 4,
     "metadata": {},
     "output_type": "execute_result"
    }
   ],
   "source": [
    "df2.dtypes"
   ]
  },
  {
   "cell_type": "markdown",
   "metadata": {},
   "source": [
    "#### looking at the top few values, default 5\n"
   ]
  },
  {
   "cell_type": "code",
   "execution_count": 5,
   "metadata": {},
   "outputs": [
    {
     "data": {
      "text/html": [
       "<div>\n",
       "<style scoped>\n",
       "    .dataframe tbody tr th:only-of-type {\n",
       "        vertical-align: middle;\n",
       "    }\n",
       "\n",
       "    .dataframe tbody tr th {\n",
       "        vertical-align: top;\n",
       "    }\n",
       "\n",
       "    .dataframe thead th {\n",
       "        text-align: right;\n",
       "    }\n",
       "</style>\n",
       "<table border=\"1\" class=\"dataframe\">\n",
       "  <thead>\n",
       "    <tr style=\"text-align: right;\">\n",
       "      <th></th>\n",
       "      <th>A</th>\n",
       "      <th>B</th>\n",
       "      <th>C</th>\n",
       "      <th>D</th>\n",
       "    </tr>\n",
       "  </thead>\n",
       "  <tbody>\n",
       "    <tr>\n",
       "      <th>0</th>\n",
       "      <td>0.642673</td>\n",
       "      <td>0.232544</td>\n",
       "      <td>0.364436</td>\n",
       "      <td>0.853916</td>\n",
       "    </tr>\n",
       "    <tr>\n",
       "      <th>1</th>\n",
       "      <td>0.306394</td>\n",
       "      <td>0.441284</td>\n",
       "      <td>0.985583</td>\n",
       "      <td>0.315221</td>\n",
       "    </tr>\n",
       "    <tr>\n",
       "      <th>2</th>\n",
       "      <td>0.194978</td>\n",
       "      <td>0.579345</td>\n",
       "      <td>0.649756</td>\n",
       "      <td>0.534179</td>\n",
       "    </tr>\n",
       "    <tr>\n",
       "      <th>3</th>\n",
       "      <td>0.512704</td>\n",
       "      <td>0.937062</td>\n",
       "      <td>0.069745</td>\n",
       "      <td>0.863659</td>\n",
       "    </tr>\n",
       "    <tr>\n",
       "      <th>4</th>\n",
       "      <td>0.283660</td>\n",
       "      <td>0.030515</td>\n",
       "      <td>0.071280</td>\n",
       "      <td>0.548678</td>\n",
       "    </tr>\n",
       "  </tbody>\n",
       "</table>\n",
       "</div>"
      ],
      "text/plain": [
       "          A         B         C         D\n",
       "0  0.642673  0.232544  0.364436  0.853916\n",
       "1  0.306394  0.441284  0.985583  0.315221\n",
       "2  0.194978  0.579345  0.649756  0.534179\n",
       "3  0.512704  0.937062  0.069745  0.863659\n",
       "4  0.283660  0.030515  0.071280  0.548678"
      ]
     },
     "execution_count": 5,
     "metadata": {},
     "output_type": "execute_result"
    }
   ],
   "source": [
    "df.head()"
   ]
  },
  {
   "cell_type": "markdown",
   "metadata": {},
   "source": [
    "#### looking at the last few values\n"
   ]
  },
  {
   "cell_type": "code",
   "execution_count": 6,
   "metadata": {},
   "outputs": [
    {
     "data": {
      "text/html": [
       "<div>\n",
       "<style scoped>\n",
       "    .dataframe tbody tr th:only-of-type {\n",
       "        vertical-align: middle;\n",
       "    }\n",
       "\n",
       "    .dataframe tbody tr th {\n",
       "        vertical-align: top;\n",
       "    }\n",
       "\n",
       "    .dataframe thead th {\n",
       "        text-align: right;\n",
       "    }\n",
       "</style>\n",
       "<table border=\"1\" class=\"dataframe\">\n",
       "  <thead>\n",
       "    <tr style=\"text-align: right;\">\n",
       "      <th></th>\n",
       "      <th>A</th>\n",
       "      <th>B</th>\n",
       "      <th>C</th>\n",
       "      <th>D</th>\n",
       "    </tr>\n",
       "  </thead>\n",
       "  <tbody>\n",
       "    <tr>\n",
       "      <th>5</th>\n",
       "      <td>0.389815</td>\n",
       "      <td>0.811168</td>\n",
       "      <td>0.407324</td>\n",
       "      <td>0.863048</td>\n",
       "    </tr>\n",
       "    <tr>\n",
       "      <th>6</th>\n",
       "      <td>0.426538</td>\n",
       "      <td>0.842496</td>\n",
       "      <td>0.245545</td>\n",
       "      <td>0.823362</td>\n",
       "    </tr>\n",
       "    <tr>\n",
       "      <th>7</th>\n",
       "      <td>0.845586</td>\n",
       "      <td>0.186496</td>\n",
       "      <td>0.124647</td>\n",
       "      <td>0.678668</td>\n",
       "    </tr>\n",
       "    <tr>\n",
       "      <th>8</th>\n",
       "      <td>0.566842</td>\n",
       "      <td>0.450344</td>\n",
       "      <td>0.650385</td>\n",
       "      <td>0.532239</td>\n",
       "    </tr>\n",
       "    <tr>\n",
       "      <th>9</th>\n",
       "      <td>0.775233</td>\n",
       "      <td>0.948415</td>\n",
       "      <td>0.809952</td>\n",
       "      <td>0.850432</td>\n",
       "    </tr>\n",
       "  </tbody>\n",
       "</table>\n",
       "</div>"
      ],
      "text/plain": [
       "          A         B         C         D\n",
       "5  0.389815  0.811168  0.407324  0.863048\n",
       "6  0.426538  0.842496  0.245545  0.823362\n",
       "7  0.845586  0.186496  0.124647  0.678668\n",
       "8  0.566842  0.450344  0.650385  0.532239\n",
       "9  0.775233  0.948415  0.809952  0.850432"
      ]
     },
     "execution_count": 6,
     "metadata": {},
     "output_type": "execute_result"
    }
   ],
   "source": [
    "df.tail()"
   ]
  },
  {
   "cell_type": "markdown",
   "metadata": {},
   "source": [
    "#### To get the indexes\n"
   ]
  },
  {
   "cell_type": "code",
   "execution_count": 7,
   "metadata": {},
   "outputs": [
    {
     "data": {
      "text/plain": [
       "RangeIndex(start=0, stop=10, step=1)"
      ]
     },
     "execution_count": 7,
     "metadata": {},
     "output_type": "execute_result"
    }
   ],
   "source": [
    "df.index"
   ]
  },
  {
   "cell_type": "markdown",
   "metadata": {},
   "source": [
    "#### To get the column names\n"
   ]
  },
  {
   "cell_type": "code",
   "execution_count": 8,
   "metadata": {},
   "outputs": [
    {
     "data": {
      "text/plain": [
       "Index(['A', 'B', 'C', 'D'], dtype='object')"
      ]
     },
     "execution_count": 8,
     "metadata": {},
     "output_type": "execute_result"
    }
   ],
   "source": [
    "df.columns"
   ]
  },
  {
   "cell_type": "markdown",
   "metadata": {},
   "source": [
    "#### To get the values\n"
   ]
  },
  {
   "cell_type": "code",
   "execution_count": 9,
   "metadata": {},
   "outputs": [
    {
     "data": {
      "text/plain": [
       "array([[0.64267298, 0.23254385, 0.36443583, 0.85391641],\n",
       "       [0.30639356, 0.44128362, 0.9855828 , 0.31522118],\n",
       "       [0.19497813, 0.57934498, 0.64975633, 0.53417913],\n",
       "       [0.51270405, 0.93706248, 0.06974528, 0.86365858],\n",
       "       [0.28365973, 0.03051514, 0.0712805 , 0.54867775],\n",
       "       [0.38981461, 0.81116771, 0.40732375, 0.86304784],\n",
       "       [0.42653756, 0.84249581, 0.24554507, 0.82336152],\n",
       "       [0.84558617, 0.1864959 , 0.12464677, 0.67866837],\n",
       "       [0.56684174, 0.4503438 , 0.6503852 , 0.5322395 ],\n",
       "       [0.77523346, 0.94841488, 0.80995245, 0.85043161]])"
      ]
     },
     "execution_count": 9,
     "metadata": {},
     "output_type": "execute_result"
    }
   ],
   "source": [
    "df.values"
   ]
  },
  {
   "cell_type": "markdown",
   "metadata": {},
   "source": [
    "#### To get a statistical summary of the DataFrame\n"
   ]
  },
  {
   "cell_type": "code",
   "execution_count": 10,
   "metadata": {},
   "outputs": [
    {
     "data": {
      "text/plain": [
       "<bound method NDFrame.describe of           A         B         C         D\n",
       "0  0.642673  0.232544  0.364436  0.853916\n",
       "1  0.306394  0.441284  0.985583  0.315221\n",
       "2  0.194978  0.579345  0.649756  0.534179\n",
       "3  0.512704  0.937062  0.069745  0.863659\n",
       "4  0.283660  0.030515  0.071280  0.548678\n",
       "5  0.389815  0.811168  0.407324  0.863048\n",
       "6  0.426538  0.842496  0.245545  0.823362\n",
       "7  0.845586  0.186496  0.124647  0.678668\n",
       "8  0.566842  0.450344  0.650385  0.532239\n",
       "9  0.775233  0.948415  0.809952  0.850432>"
      ]
     },
     "execution_count": 10,
     "metadata": {},
     "output_type": "execute_result"
    }
   ],
   "source": [
    "df.describe"
   ]
  },
  {
   "cell_type": "markdown",
   "metadata": {},
   "source": [
    "#### For sorting the index\n"
   ]
  },
  {
   "cell_type": "code",
   "execution_count": 11,
   "metadata": {},
   "outputs": [
    {
     "data": {
      "text/html": [
       "<div>\n",
       "<style scoped>\n",
       "    .dataframe tbody tr th:only-of-type {\n",
       "        vertical-align: middle;\n",
       "    }\n",
       "\n",
       "    .dataframe tbody tr th {\n",
       "        vertical-align: top;\n",
       "    }\n",
       "\n",
       "    .dataframe thead th {\n",
       "        text-align: right;\n",
       "    }\n",
       "</style>\n",
       "<table border=\"1\" class=\"dataframe\">\n",
       "  <thead>\n",
       "    <tr style=\"text-align: right;\">\n",
       "      <th></th>\n",
       "      <th>A</th>\n",
       "      <th>B</th>\n",
       "      <th>C</th>\n",
       "      <th>D</th>\n",
       "    </tr>\n",
       "  </thead>\n",
       "  <tbody>\n",
       "    <tr>\n",
       "      <th>9</th>\n",
       "      <td>0.775233</td>\n",
       "      <td>0.948415</td>\n",
       "      <td>0.809952</td>\n",
       "      <td>0.850432</td>\n",
       "    </tr>\n",
       "    <tr>\n",
       "      <th>8</th>\n",
       "      <td>0.566842</td>\n",
       "      <td>0.450344</td>\n",
       "      <td>0.650385</td>\n",
       "      <td>0.532239</td>\n",
       "    </tr>\n",
       "    <tr>\n",
       "      <th>7</th>\n",
       "      <td>0.845586</td>\n",
       "      <td>0.186496</td>\n",
       "      <td>0.124647</td>\n",
       "      <td>0.678668</td>\n",
       "    </tr>\n",
       "    <tr>\n",
       "      <th>6</th>\n",
       "      <td>0.426538</td>\n",
       "      <td>0.842496</td>\n",
       "      <td>0.245545</td>\n",
       "      <td>0.823362</td>\n",
       "    </tr>\n",
       "    <tr>\n",
       "      <th>5</th>\n",
       "      <td>0.389815</td>\n",
       "      <td>0.811168</td>\n",
       "      <td>0.407324</td>\n",
       "      <td>0.863048</td>\n",
       "    </tr>\n",
       "    <tr>\n",
       "      <th>4</th>\n",
       "      <td>0.283660</td>\n",
       "      <td>0.030515</td>\n",
       "      <td>0.071280</td>\n",
       "      <td>0.548678</td>\n",
       "    </tr>\n",
       "    <tr>\n",
       "      <th>3</th>\n",
       "      <td>0.512704</td>\n",
       "      <td>0.937062</td>\n",
       "      <td>0.069745</td>\n",
       "      <td>0.863659</td>\n",
       "    </tr>\n",
       "    <tr>\n",
       "      <th>2</th>\n",
       "      <td>0.194978</td>\n",
       "      <td>0.579345</td>\n",
       "      <td>0.649756</td>\n",
       "      <td>0.534179</td>\n",
       "    </tr>\n",
       "    <tr>\n",
       "      <th>1</th>\n",
       "      <td>0.306394</td>\n",
       "      <td>0.441284</td>\n",
       "      <td>0.985583</td>\n",
       "      <td>0.315221</td>\n",
       "    </tr>\n",
       "    <tr>\n",
       "      <th>0</th>\n",
       "      <td>0.642673</td>\n",
       "      <td>0.232544</td>\n",
       "      <td>0.364436</td>\n",
       "      <td>0.853916</td>\n",
       "    </tr>\n",
       "  </tbody>\n",
       "</table>\n",
       "</div>"
      ],
      "text/plain": [
       "          A         B         C         D\n",
       "9  0.775233  0.948415  0.809952  0.850432\n",
       "8  0.566842  0.450344  0.650385  0.532239\n",
       "7  0.845586  0.186496  0.124647  0.678668\n",
       "6  0.426538  0.842496  0.245545  0.823362\n",
       "5  0.389815  0.811168  0.407324  0.863048\n",
       "4  0.283660  0.030515  0.071280  0.548678\n",
       "3  0.512704  0.937062  0.069745  0.863659\n",
       "2  0.194978  0.579345  0.649756  0.534179\n",
       "1  0.306394  0.441284  0.985583  0.315221\n",
       "0  0.642673  0.232544  0.364436  0.853916"
      ]
     },
     "execution_count": 11,
     "metadata": {},
     "output_type": "execute_result"
    }
   ],
   "source": [
    "df.sort_index(axis=0,ascending=False)"
   ]
  },
  {
   "cell_type": "markdown",
   "metadata": {},
   "source": [
    "#### For sorting by a Column\n"
   ]
  },
  {
   "cell_type": "code",
   "execution_count": 12,
   "metadata": {},
   "outputs": [
    {
     "data": {
      "text/html": [
       "<div>\n",
       "<style scoped>\n",
       "    .dataframe tbody tr th:only-of-type {\n",
       "        vertical-align: middle;\n",
       "    }\n",
       "\n",
       "    .dataframe tbody tr th {\n",
       "        vertical-align: top;\n",
       "    }\n",
       "\n",
       "    .dataframe thead th {\n",
       "        text-align: right;\n",
       "    }\n",
       "</style>\n",
       "<table border=\"1\" class=\"dataframe\">\n",
       "  <thead>\n",
       "    <tr style=\"text-align: right;\">\n",
       "      <th></th>\n",
       "      <th>A</th>\n",
       "      <th>B</th>\n",
       "      <th>C</th>\n",
       "      <th>D</th>\n",
       "    </tr>\n",
       "  </thead>\n",
       "  <tbody>\n",
       "    <tr>\n",
       "      <th>2</th>\n",
       "      <td>0.194978</td>\n",
       "      <td>0.579345</td>\n",
       "      <td>0.649756</td>\n",
       "      <td>0.534179</td>\n",
       "    </tr>\n",
       "    <tr>\n",
       "      <th>4</th>\n",
       "      <td>0.283660</td>\n",
       "      <td>0.030515</td>\n",
       "      <td>0.071280</td>\n",
       "      <td>0.548678</td>\n",
       "    </tr>\n",
       "    <tr>\n",
       "      <th>1</th>\n",
       "      <td>0.306394</td>\n",
       "      <td>0.441284</td>\n",
       "      <td>0.985583</td>\n",
       "      <td>0.315221</td>\n",
       "    </tr>\n",
       "    <tr>\n",
       "      <th>5</th>\n",
       "      <td>0.389815</td>\n",
       "      <td>0.811168</td>\n",
       "      <td>0.407324</td>\n",
       "      <td>0.863048</td>\n",
       "    </tr>\n",
       "    <tr>\n",
       "      <th>6</th>\n",
       "      <td>0.426538</td>\n",
       "      <td>0.842496</td>\n",
       "      <td>0.245545</td>\n",
       "      <td>0.823362</td>\n",
       "    </tr>\n",
       "    <tr>\n",
       "      <th>3</th>\n",
       "      <td>0.512704</td>\n",
       "      <td>0.937062</td>\n",
       "      <td>0.069745</td>\n",
       "      <td>0.863659</td>\n",
       "    </tr>\n",
       "    <tr>\n",
       "      <th>8</th>\n",
       "      <td>0.566842</td>\n",
       "      <td>0.450344</td>\n",
       "      <td>0.650385</td>\n",
       "      <td>0.532239</td>\n",
       "    </tr>\n",
       "    <tr>\n",
       "      <th>0</th>\n",
       "      <td>0.642673</td>\n",
       "      <td>0.232544</td>\n",
       "      <td>0.364436</td>\n",
       "      <td>0.853916</td>\n",
       "    </tr>\n",
       "    <tr>\n",
       "      <th>9</th>\n",
       "      <td>0.775233</td>\n",
       "      <td>0.948415</td>\n",
       "      <td>0.809952</td>\n",
       "      <td>0.850432</td>\n",
       "    </tr>\n",
       "    <tr>\n",
       "      <th>7</th>\n",
       "      <td>0.845586</td>\n",
       "      <td>0.186496</td>\n",
       "      <td>0.124647</td>\n",
       "      <td>0.678668</td>\n",
       "    </tr>\n",
       "  </tbody>\n",
       "</table>\n",
       "</div>"
      ],
      "text/plain": [
       "          A         B         C         D\n",
       "2  0.194978  0.579345  0.649756  0.534179\n",
       "4  0.283660  0.030515  0.071280  0.548678\n",
       "1  0.306394  0.441284  0.985583  0.315221\n",
       "5  0.389815  0.811168  0.407324  0.863048\n",
       "6  0.426538  0.842496  0.245545  0.823362\n",
       "3  0.512704  0.937062  0.069745  0.863659\n",
       "8  0.566842  0.450344  0.650385  0.532239\n",
       "0  0.642673  0.232544  0.364436  0.853916\n",
       "9  0.775233  0.948415  0.809952  0.850432\n",
       "7  0.845586  0.186496  0.124647  0.678668"
      ]
     },
     "execution_count": 12,
     "metadata": {},
     "output_type": "execute_result"
    }
   ],
   "source": [
    "df.sort_values(by='A')"
   ]
  }
 ],
 "metadata": {
  "kernelspec": {
   "display_name": "Python 3",
   "language": "python",
   "name": "python3"
  },
  "language_info": {
   "codemirror_mode": {
    "name": "ipython",
    "version": 3
   },
   "file_extension": ".py",
   "mimetype": "text/x-python",
   "name": "python",
   "nbconvert_exporter": "python",
   "pygments_lexer": "ipython3",
   "version": "3.12.1"
  }
 },
 "nbformat": 4,
 "nbformat_minor": 2
}
