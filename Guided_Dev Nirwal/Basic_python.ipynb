{
 "cells": [
  {
   "cell_type": "markdown",
   "metadata": {},
   "source": [
    "### Build-In Functions\n",
    "\n",
    "1. type() - used to identify the type of data"
   ]
  },
  {
   "cell_type": "markdown",
   "metadata": {},
   "source": [
    "### Comments"
   ]
  },
  {
   "cell_type": "markdown",
   "metadata": {},
   "source": [
    "`#` - Single Line Comments\n",
    "\n",
    "''' \n",
    " This is Multi-line Comments\n",
    "'''"
   ]
  },
  {
   "cell_type": "markdown",
   "metadata": {},
   "source": [
    "### Escape Sequences"
   ]
  },
  {
   "cell_type": "markdown",
   "metadata": {},
   "source": [
    "- \\' - Single Quote\n",
    "- \\\\ - Backslash\n",
    "- \\n - newline\n",
    "- \\r - carriage return\n",
    "- \\t - Tab \n",
    "- \\b - backspace\n",
    "- \\f - form feed\n",
    "- \\761 - octal (less than 8) ASCII\n",
    "- \\x147 - Hexadecimal value (less than 16) ASCII"
   ]
  },
  {
   "cell_type": "markdown",
   "metadata": {},
   "source": [
    "# Datatypes in Python"
   ]
  },
  {
   "cell_type": "markdown",
   "metadata": {},
   "source": [
    "### 1. Variables & Constants"
   ]
  },
  {
   "cell_type": "code",
   "execution_count": 1,
   "metadata": {},
   "outputs": [
    {
     "name": "stdout",
     "output_type": "stream",
     "text": [
      "A:1 B:1 C:1\n"
     ]
    }
   ],
   "source": [
    "a = 1\n",
    "b = a\n",
    "c = b\n",
    "\n",
    "print(f\"A:{a} B:{b} C:{c}\")"
   ]
  },
  {
   "cell_type": "markdown",
   "metadata": {},
   "source": [
    "### 2. Numbers "
   ]
  },
  {
   "cell_type": "code",
   "execution_count": 10,
   "metadata": {},
   "outputs": [
    {
     "name": "stdout",
     "output_type": "stream",
     "text": [
      "10\n",
      "<class 'int'>\n",
      "1.6666666666666667\n",
      "<class 'float'>\n"
     ]
    }
   ],
   "source": [
    "a = 10\n",
    "print(a)\n",
    "\n",
    "print(type(a))\n",
    "\n",
    "b = 5/3\n",
    "print(b)\n",
    "print(type(b))"
   ]
  },
  {
   "cell_type": "markdown",
   "metadata": {},
   "source": [
    "### 3. Operations on Numbers"
   ]
  },
  {
   "cell_type": "code",
   "execution_count": 12,
   "metadata": {},
   "outputs": [
    {
     "name": "stdout",
     "output_type": "stream",
     "text": [
      "9.5\n"
     ]
    }
   ],
   "source": [
    "# Follows BODMAS RULES\n",
    "'''\n",
    "B: Brackets (Parentheses)\n",
    "O: Orders (Exponents and roots)\n",
    "D: Division\n",
    "M: Multiplication\n",
    "A: Addition\n",
    "S: Subtraction\n",
    "'''\n",
    "\n",
    "a = 3 * 5 - 9 + 7 / 2\n",
    "print(a)"
   ]
  },
  {
   "cell_type": "markdown",
   "metadata": {},
   "source": [
    "BODMAS order of operations:\n",
    "\n",
    "1. First, multiplication: `3 * 5 = 15`\n",
    "2. Then, division: `7 / 2 = 3.5`\n",
    "3. Next, subtraction: `15 - 9 = 6`\n",
    "4. Finally, addition: `6 + 3.5 = 9.5`\n",
    "\n",
    "So, `a` evaluates to `9.5`.\n",
    "\n",
    "`Arithmetic Operations**:\n",
    "- Addition `+`\n",
    "- Subtraction `-`\n",
    "- Multiplication `*`\n",
    "- Division `/`\n",
    "- Floor Division `//`\n",
    "- Modulus `%`\n",
    "- Exponentiation `**`"
   ]
  },
  {
   "cell_type": "markdown",
   "metadata": {},
   "source": [
    "#### All Operators\n",
    "\n",
    "1. **Arithmetic Operators**:\n",
    "- Addition `+`\n",
    "- Subtraction `-`\n",
    "- Multiplication `*`\n",
    "- Division `/`\n",
    "- Floor Division `//`\n",
    "- Modulus `%`\n",
    "- Exponentiation `**`\n",
    "\n",
    "2. **Comparison Operators**:\n",
    "- Equal to `==`\n",
    "- Not equal to `!=`\n",
    "- Greater than `>`\n",
    "- Less than `<`\n",
    "- Greater than or equal to `>=`\n",
    "- Less than or equal to `<=`\n",
    "\n",
    "3. **Logical Operators**:\n",
    "- Logical AND `and`\n",
    "- Logical OR `or`\n",
    "- Logical NOT `not`\n",
    "\n",
    "4. **Assignment / Shorthand Operators**:\n",
    "- Assignment `=`\n",
    "- Addition assignment `+=`\n",
    "- Subtraction assignment `-=` \n",
    "- Multiplication assignment `*=`\n",
    "- Division assignment `/=`\n",
    "- Floor division assignment `//=`\n",
    "- Modulus assignment `%=`\n",
    "- Exponentiation assignment `**=`\n",
    "\n",
    "5. **Identity Operators**:\n",
    "- Identity `is`\n",
    "- Not identity `is not`\n",
    "\n",
    "6. **Membership Operators**:\n",
    "- Membership `in`\n",
    "- Not membership `not in`\n",
    "\n",
    "7. **Bitwise Operators**:\n",
    "- Bitwise AND `&`\n",
    "- Bitwise OR `|`\n",
    "- Bitwise XOR `^`\n",
    "- Bitwise NOT `~`\n",
    "- Left shift `<<`\n",
    "- Right shift `>>`"
   ]
  },
  {
   "cell_type": "markdown",
   "metadata": {},
   "source": [
    "***"
   ]
  },
  {
   "cell_type": "markdown",
   "metadata": {},
   "source": [
    "`round()`"
   ]
  },
  {
   "cell_type": "code",
   "execution_count": 22,
   "metadata": {},
   "outputs": [
    {
     "name": "stdout",
     "output_type": "stream",
     "text": [
      "2\n",
      "3\n",
      "8\n",
      "8\n"
     ]
    }
   ],
   "source": [
    "# Round-Off Method\n",
    "\n",
    "a = 2.4 # Less the .5 \n",
    "print(round(a))\n",
    "\n",
    "a = 2.6 # More than .5\n",
    "print(round(a))\n",
    "\n",
    "a = 8.5 # For Odd value (Remains same)\n",
    "print(round(a))\n",
    "\n",
    "a = 7.5 # For Even Value (Adds 1)\n",
    "print(round(a))"
   ]
  },
  {
   "cell_type": "code",
   "execution_count": 5,
   "metadata": {},
   "outputs": [
    {
     "name": "stdout",
     "output_type": "stream",
     "text": [
      "4\n",
      "0\n",
      "4\n",
      "1.0\n",
      "1\n",
      "0\n"
     ]
    }
   ],
   "source": [
    "### Calculator - Program 1\n",
    "\n",
    "a = int(input(\"Enter the 1st value: \"))\n",
    "b = int(input(\"Enter the 2nd value: \"))\n",
    "\n",
    "# Addition\n",
    "print(a+b)\n",
    "\n",
    "# Subtraction\n",
    "print(a-b)\n",
    "\n",
    "# Multiplication\n",
    "print(a*b)\n",
    "\n",
    "# Division\n",
    "print(a/b)\n",
    "\n",
    "# Floor Division (integer division or Quotient)\n",
    "print(a//b)\n",
    "\n",
    "# Modulus (remainder after division)\n",
    "print(a%b)\n"
   ]
  },
  {
   "cell_type": "markdown",
   "metadata": {},
   "source": [
    "### 4. Type Casting"
   ]
  },
  {
   "cell_type": "markdown",
   "metadata": {},
   "source": [
    "Type casting in Python refers to the process of converting a variable from one data type to another. Python provides several built-in functions for type casting:\n",
    "\n",
    "\n",
    "Type casting allows for flexible manipulation and conversion of data types, which is often useful in various programming scenarios."
   ]
  },
  {
   "cell_type": "code",
   "execution_count": 37,
   "metadata": {},
   "outputs": [
    {
     "name": "stdout",
     "output_type": "stream",
     "text": [
      "Y: <class 'int'>: 5\n",
      "Y: <class 'float'>: 10.0\n",
      "Y: <class 'str'>: 100\n",
      "Y: <class 'bool'>: True\n",
      "List into Tuple & Sets : [1, 2, 3] into (1, 2, 3) & {1, 2, 3}\n",
      "Tuple into Dic: [('a', 1), ('b', 2)] into {'a': 1, 'b': 2}\n"
     ]
    }
   ],
   "source": [
    "# 1. **int()**: Converts a value to an integer data type.\n",
    "\n",
    "x = 5.7\n",
    "y = int(x)  # y will be 5\n",
    "print(f\"Y: {type(y)}: {y}\")\n",
    "\n",
    "# 2. **float()**: Converts a value to a floating-point data type.\n",
    "\n",
    "x = 10\n",
    "y = float(x)  # y will be 10.0\n",
    "print(f\"Y: {type(y)}: {y}\")\n",
    "\n",
    "# 3. **str()**: Converts a value to a string data type.\n",
    "\n",
    "x = 100\n",
    "y = str(x)  # y will be \"100\"\n",
    "print(f\"Y: {type(y)}: {y}\")\n",
    "\n",
    "# 4. **bool()**: Converts a value to a Boolean data type.\n",
    "\n",
    "x = 10\n",
    "y = bool(x)  # y will be False\n",
    "print(f\"Y: {type(y)}: {y}\")\n",
    "\n",
    "# 5. **list()**, **tuple()**, **set()**: Convert an iterable (such as a list, tuple, or set) to the respective data type.\n",
    "\n",
    "my_list = [1, 2, 3]\n",
    "my_tuple = tuple(my_list)  # Convert list to tuple\n",
    "my_set = set(my_list)  # Convert list to set\n",
    "\n",
    "print(f\"List into Tuple & Sets : {my_list} into {my_tuple} & {my_set}\")\n",
    "\n",
    "\n",
    "\n",
    "\n",
    "# 6. **dict()**: Convert a sequence of key-value pairs into a dictionary.\n",
    "\n",
    "my_list = [('a', 1), ('b', 2)]\n",
    "my_dict = dict(my_list)  # Convert list of tuples to dictionary\n",
    "\n",
    "\n",
    "print(f\"Tuple into Dic: {my_list} into {my_dict}\")\n"
   ]
  },
  {
   "cell_type": "markdown",
   "metadata": {},
   "source": [
    "#### All built-in type casting functions available:\n",
    "\n",
    "1. `int(x, base=10)`: Converts x to an integer. The base parameter specifies the base to which x is converted (default is 10).\n",
    "\n",
    "2. `float(x)`: Converts x to a floating-point number.\n",
    "\n",
    "3. `str(x)`: Converts x to a string.\n",
    "\n",
    "4. `bool(x)`: Converts x to a Boolean value.\n",
    "\n",
    "5. `list(iterable)`: Converts an iterable (such as a list, tuple, string, etc.) to a list.\n",
    "\n",
    "6. `tuple(iterable)`: Converts an iterable to a tuple.\n",
    "\n",
    "7. `set(iterable)`: Converts an iterable to a set.\n",
    "\n",
    "8. `dict(mapping or iterable, \\*\\*kwargs)`: Converts a dictionary's contents as a sequence of key-value pairs to a dictionary. If a mapping (like another dictionary) is provided, it creates a shallow copy of it. If an iterable of key-value pairs is provided, it creates a dictionary from those pairs. Optionally, keyword arguments can be provided to add additional key-value pairs to the dictionary.\n",
    "\n",
    "9. `complex(real, imag)`: Constructs a complex number with the value real + imag*1j or converts a string or number to a complex number.\n",
    "\n",
    "These functions provide convenient ways to convert values between different data types in Python."
   ]
  },
  {
   "cell_type": "markdown",
   "metadata": {},
   "source": [
    "In Python, type casting can occur implicitly or explicitly:\n",
    "\n",
    "1. **Implicit Casting**:\n",
    "   Implicit type casting, also known as automatic type conversion, happens automatically during the execution of operations. Python performs implicit type casting when it's required to operate on values of different types. For example, when you add an integer and a floating-point number, Python automatically converts the integer to a float before performing the addition. Similarly, when you multiply an integer and a string, Python implicitly repeats the string the specified number of times.\n",
    "\n",
    "   ```python\n",
    "   a = 5       # Integer\n",
    "   b = 2.5     # Float\n",
    "   result = a + b   # Implicit casting of 'a' to float before addition\n",
    "   print(result)    # Output will be 7.5\n",
    "   ```\n",
    "\n",
    "2. **Explicit Casting**:\n",
    "   Explicit type casting, also known as type conversion, is done explicitly by the programmer using built-in functions like `int()`, `float()`, `str()`, etc. This allows you to convert a value from one data type to another as needed. For example, you can convert a string to an integer using the `int()` function, or a float to a string using the `str()` function.\n",
    "\n",
    "   ```python\n",
    "   x = \"10\"    # String\n",
    "   y = int(x)  # Explicitly convert 'x' from string to integer\n",
    "   print(y)    # Output will be 10\n",
    "   ```\n",
    "\n",
    "Explicit casting gives you more control over the data type conversion process and is useful when you need to ensure the desired behavior of your code."
   ]
  },
  {
   "cell_type": "markdown",
   "metadata": {},
   "source": [
    "### 5. Strings"
   ]
  },
  {
   "cell_type": "code",
   "execution_count": 1,
   "metadata": {},
   "outputs": [
    {
     "name": "stdout",
     "output_type": "stream",
     "text": [
      "Hello, world!\n",
      "Hello, Python!\n",
      "This is a multiline\n",
      "string in Python.\n",
      "It can span across multiple lines.\n",
      " Hello this\n",
      "is\n",
      "Michael\n",
      "H\n",
      "!\n",
      "llo,\n",
      "Hello, world! Hello, Python!\n",
      "14\n",
      "Hello, world!Hello, world!Hello, world!\n",
      "My name is Alice and I am 30 years old.\n"
     ]
    }
   ],
   "source": [
    "# Define a string using single quotes\n",
    "string_single = 'Hello, world!'\n",
    "\n",
    "# Define a string using double quotes\n",
    "string_double = \"Hello, Python!\"\n",
    "\n",
    "# Define a multiline string using triple quotes\n",
    "multiline_string = \"\"\"This is a multiline\n",
    "string in Python.\n",
    "It can span across multiple lines.\"\"\"\n",
    "\n",
    "# Method 2\n",
    "mt2 = ''' Hello this\n",
    "is\n",
    "Michael'''\n",
    "\n",
    "# Accessing characters in a string\n",
    "first_character = string_single[0]  # Access the first character\n",
    "last_character = string_single[-1]   # Access the last character\n",
    "\n",
    "# String slicing\n",
    "substring = string_double[2:6]  # Extract characters from index 2 to 5\n",
    "\n",
    "# String concatenation\n",
    "concatenated_string = string_single + \" \" + string_double\n",
    "\n",
    "# String length\n",
    "string_length = len(string_double)\n",
    "\n",
    "# String repetition\n",
    "repeated_string = string_single * 3  # Repeat the string three times\n",
    "\n",
    "# String formatting using f-strings (available in Python 3.6+)\n",
    "name = \"Alice\"\n",
    "age = 30\n",
    "formatted_string = f\"My name is {name} and I am {age} years old.\"\n",
    "\n",
    "# Printing strings\n",
    "print(string_single)\n",
    "print(string_double)\n",
    "print(multiline_string)\n",
    "print(mt2)\n",
    "print(first_character)\n",
    "print(last_character)\n",
    "print(substring)\n",
    "print(concatenated_string)\n",
    "print(string_length)\n",
    "print(repeated_string)\n",
    "print(formatted_string)\n"
   ]
  },
  {
   "cell_type": "code",
   "execution_count": 3,
   "metadata": {},
   "outputs": [
    {
     "name": "stdout",
     "output_type": "stream",
     "text": [
      "M\n",
      "y\n",
      " \n",
      "n\n",
      "a\n",
      "m\n",
      "e\n",
      " \n",
      "i\n",
      "s\n",
      " \n",
      "A\n",
      "l\n",
      "i\n",
      "c\n",
      "e\n"
     ]
    }
   ],
   "source": [
    "# Loop through a String\n",
    "\n",
    "abc = \"My name is Alice\"\n",
    "for x in abc:\n",
    "    print(x)"
   ]
  },
  {
   "cell_type": "markdown",
   "metadata": {},
   "source": [
    "### 6. String Slicing - In-depts"
   ]
  },
  {
   "cell_type": "code",
   "execution_count": 21,
   "metadata": {},
   "outputs": [
    {
     "name": "stdout",
     "output_type": "stream",
     "text": [
      "llo_\n",
      "Hello\n",
      "llo_World!\n",
      "orl\n"
     ]
    }
   ],
   "source": [
    "\n",
    "b = \"Hello_World!\"\n",
    "\n",
    "# Slice Normal\n",
    "print(b[2:6])\n",
    "\n",
    "# Slice From the Start\n",
    "print(b[:5])\n",
    "\n",
    "# Slice To the End\n",
    "print(b[2:])\n",
    "\n",
    "# Negative Indexing\n",
    "print(b[-5:-2])\n",
    "\n"
   ]
  },
  {
   "cell_type": "code",
   "execution_count": 6,
   "metadata": {},
   "outputs": [
    {
     "name": "stdout",
     "output_type": "stream",
     "text": [
      "True\n",
      "True\n",
      "Yes its present\n",
      "No its present\n",
      "----------------------------------\n",
      "Hello MichaelGomes\n",
      "Hello Michael __ Gomes\n"
     ]
    }
   ],
   "source": [
    "# String Identity Checks\n",
    "a = \"Hello Michael\"\n",
    "b = \"Gomes\"\n",
    "\n",
    "# in,not - String Check\n",
    "print(\"Hello\" in a)\n",
    "print(\"Hi\" not in a)\n",
    "\n",
    "\n",
    "# if - String Check\n",
    "if \"Hello\" in a:\n",
    "    print(\"Yes its present\")\n",
    "\n",
    "if \"Hi\" not in a:\n",
    "    print(\"No its present\")\n",
    "\n",
    "print(\"----------------------------------\")\n",
    "\n",
    "# MISC\n",
    "\n",
    "# + - String Concatenation\n",
    "c = a + b\n",
    "print(c)\n",
    "\n",
    "c = a + \" __ \" + b\n",
    "print(c)\n"
   ]
  },
  {
   "cell_type": "markdown",
   "metadata": {},
   "source": [
    "### 7. String Methods"
   ]
  },
  {
   "cell_type": "code",
   "execution_count": 28,
   "metadata": {},
   "outputs": [
    {
     "data": {
      "text/plain": [
       "['Formatter',\n",
       " 'Template',\n",
       " '_ChainMap',\n",
       " '__all__',\n",
       " '__builtins__',\n",
       " '__cached__',\n",
       " '__doc__',\n",
       " '__file__',\n",
       " '__loader__',\n",
       " '__name__',\n",
       " '__package__',\n",
       " '__spec__',\n",
       " '_re',\n",
       " '_sentinel_dict',\n",
       " '_string',\n",
       " 'ascii_letters',\n",
       " 'ascii_lowercase',\n",
       " 'ascii_uppercase',\n",
       " 'capwords',\n",
       " 'digits',\n",
       " 'hexdigits',\n",
       " 'octdigits',\n",
       " 'printable',\n",
       " 'punctuation',\n",
       " 'whitespace']"
      ]
     },
     "execution_count": 28,
     "metadata": {},
     "output_type": "execute_result"
    }
   ],
   "source": [
    "# All String Methods\n",
    "\n",
    "import string\n",
    "\n",
    "# Print all string methods\n",
    "dir(string)\n"
   ]
  },
  {
   "cell_type": "code",
   "execution_count": 36,
   "metadata": {},
   "outputs": [
    {
     "name": "stdout",
     "output_type": "stream",
     "text": [
      "15\n",
      " HELLO MICHAEL \n",
      " hello michael \n",
      "Hello Michael\n",
      " Jello Michael \n",
      "[' Hello Michael ']\n",
      " Hello Michael GEN AI\n",
      " Hello Michael  __ GEN AI\n",
      "I want to pay 49.95 dollars for 3 pieces of item 567.\n",
      "------------------------------------------------------------------------------------------------------------------\n",
      "Hello michael\n",
      "hello michael\n",
      "False\n",
      "False\n",
      "False\n",
      "False\n",
      "False\n",
      "True\n",
      "False\n",
      "apple, banana, cherry\n",
      "------------------------------------------------------------------------------------------------------------------\n",
      "  Hello   \n",
      "**Hello***\n",
      "3\n",
      "2\n",
      "1\n",
      "True\n",
      "False\n",
      "4\n",
      "8\n",
      "-1\n"
     ]
    }
   ],
   "source": [
    "\n",
    "a = \" Hello Michael \"\n",
    "b = \"GEN AI\"\n",
    "\n",
    "# 1. len() - Length of String\n",
    "print(len(a))\n",
    "\n",
    "# 2. upper() - Upper Case\n",
    "print(a.upper())\n",
    "\n",
    "# 3. lower() - Lower Case\n",
    "print(a.lower())\n",
    "\n",
    "# 4. strip() - removes any whitespace from the beginning & at the end\n",
    "print(a.strip())\n",
    "\n",
    "# 5. replace() - replaces a string with another string\n",
    "print(a.replace(\"H\", \"J\"))\n",
    "\n",
    "# 6. split() - splits the string into substrings if it finds instances of the separator\n",
    "print(a.split(\",\"))\n",
    "\n",
    "print(\"------------------------------------------------------------------------------------------------------------------\")\n",
    "a = \"Hello Michael\"\n",
    "\n",
    "# 1. capitalize(): Returns a copy of the string with the first character capitalized and the rest lowercased.\n",
    "print(a.capitalize())\n",
    "\n",
    "# 2. casefold(): Returns a casefolded copy of the string. Casefolded strings may be used for caseless matching.\n",
    "print(a.casefold())\n",
    "\n",
    "# 7. isalnum(): Returns True if all characters in the string are alphanumeric (letters or digits), otherwise False.\n",
    "print(a.isalnum())\n",
    "\n",
    "# 8. isalpha(): Returns True if all characters in the string are alphabetic, otherwise False.\n",
    "print(a.isalpha())\n",
    "\n",
    "# 9. isdigit(): Returns True if all characters in the string are digits, otherwise False.\n",
    "print(a.isdigit())\n",
    "\n",
    "# 10. islower(): Returns True if all cased characters in the string are lowercase and there is at least one cased character, otherwise False.\n",
    "print(a.islower())\n",
    "\n",
    "# 11. isspace(): Returns True if there are only whitespace characters in the string and the string is not empty, otherwise False.\n",
    "print(a.isspace())\n",
    "\n",
    "# 12. istitle(): Returns True if the string is titlecased (the first character of each word is uppercase and all other characters are lowercase), otherwise False.\n",
    "print(a.istitle())\n",
    "\n",
    "# 13. isupper(): Returns True if all cased characters in the string are uppercase and there is at least one cased character, otherwise False.\n",
    "print(a.isupper())\n",
    "\n",
    "# 14. join(iterable): Returns a string concatenated with the elements of iterable.\n",
    "# print(\"\".join(iterable))\n",
    "iterable = ['apple', 'banana', 'cherry']\n",
    "result = \", \".join(iterable)\n",
    "print(result)  # Output: \"apple, banana, cherry\"\n",
    "\n",
    "print(\"------------------------------------------------------------------------------------------------------------------\")\n",
    "\n",
    "# # 3. center(width[, fillchar]): Returns a centered string of length width.\n",
    "a = \"Hello\"\n",
    "print(a.center(10))  # Output: \"  Hello   \"\n",
    "print(a.center(10, '*'))  # Output: \"**Hello***\"\n",
    "\n",
    "# 4. count(sub[, start[, end]]): Returns the number of non-overlapping occurrences of substring sub in the range [start, end].\n",
    "b = \"banana\"\n",
    "print(b.count('a'))  # Output: 3\n",
    "print(b.count('a', 2))  # Output: 2 (count 'a' after index 2)\n",
    "print(b.count('a', 2, 4))  # Output: 1 (count 'a' between index 2 and 4)\n",
    "\n",
    "# 5. endswith(suffix[, start[, end]]): Returns True if the string ends with the specified suffix, otherwise False.\n",
    "c = \"Hello, world!\"\n",
    "print(c.endswith('world!'))  # Output: True\n",
    "print(c.endswith('world!', 0, 5))  # Output: False (check the suffix within index 0 to 5)\n",
    "\n",
    "# 6. find(sub[, start[, end]]): Returns the lowest index in the string where substring sub is found. Returns -1 if not found.\n",
    "d = \"Hello, world!\"\n",
    "print(d.find('o'))  # Output: 4 (index of first occurrence of 'o')\n",
    "print(d.find('o', 5))  # Output: 7 (index of 'o' after index 5)\n",
    "print(d.find('o', 5, 8))  # Output: -1 (not found within index 5 to 8)\n",
    "\n"
   ]
  },
  {
   "cell_type": "markdown",
   "metadata": {},
   "source": [
    "### 8. String Formatting"
   ]
  },
  {
   "cell_type": "code",
   "execution_count": 8,
   "metadata": {},
   "outputs": [
    {
     "name": "stdout",
     "output_type": "stream",
     "text": [
      "My name is Michael\n",
      "I want to pay 49.95 dollars for 3 pieces of item 567.\n"
     ]
    }
   ],
   "source": [
    "name = input(\"Enter your name: \")\n",
    "print(\"My name is {0}\".format(name))\n",
    "\n",
    "\n",
    "# String formatting using f-strings (available in Python 3.6+)\n",
    "name = \"Alice\"\n",
    "age = 30\n",
    "formatted_string = f\"My name is {name} and I am {age} years old.\"\n",
    "\n",
    "# String Formatter - When Posistion is not defined\n",
    "quantity = 3\n",
    "itemno = 567\n",
    "price = 49.95\n",
    "myorder = \"I want to pay {2} dollars for {0} pieces of item {1}.\"\n",
    "print(myorder.format(quantity, itemno, price))"
   ]
  },
  {
   "cell_type": "markdown",
   "metadata": {},
   "source": [
    "### Python Collections (Arrays)\n",
    "\n",
    "There are four collection data types in the Python programming language:\n",
    "\n",
    "- List is a collection which is ordered and changeable. Allows duplicate members.\n",
    "\n",
    "- Tuple is a collection which is ordered and unchangeable. Allows duplicate members.\n",
    "\n",
    "- Set is a collection which is unordered, unchangeable*, and unindexed. No duplicate members.\n",
    "\n",
    "- Dictionary is a collection which is ordered** and changeable. No duplicate members."
   ]
  },
  {
   "cell_type": "markdown",
   "metadata": {},
   "source": [
    "### 9. List - Data Structure Beginning\n",
    "\n",
    "- List items are ordered, changeable, and allow duplicate values.\n",
    "\n",
    "- List items are indexed, the first item has index [0], the second item has index [1] etc.\n",
    "\n",
    "- If you add new items to a list, the new items will be placed at the end of the list.\n",
    "\n",
    "- The list is changeable, meaning that we can change, add, and remove items in a list after it has been created.\n",
    "\n",
    "- A list with strings, integers and boolean values are allowed"
   ]
  },
  {
   "cell_type": "code",
   "execution_count": 14,
   "metadata": {},
   "outputs": [
    {
     "name": "stdout",
     "output_type": "stream",
     "text": [
      "<class 'list'>\n",
      "[1, 2, 3, 4, 5, 6, 7, 8, 9, 10]\n",
      "<class 'list'>\n"
     ]
    }
   ],
   "source": [
    "x = [1,2,3,4,5,6,7,8,9,10]\n",
    "y = [[1,2,3,4],[5,6,7,8]]\n",
    "mylist = [\"apple\", \"banana\", \"cherry\"]\n",
    "\n",
    "print(type(mylist))\n",
    "print(x)\n",
    "print(type(y))"
   ]
  },
  {
   "cell_type": "markdown",
   "metadata": {},
   "source": [
    "- dir() function returns all properties and methods of the specified object, without the values."
   ]
  },
  {
   "cell_type": "code",
   "execution_count": 21,
   "metadata": {},
   "outputs": [
    {
     "data": {
      "text/plain": [
       "['__add__',\n",
       " '__class__',\n",
       " '__class_getitem__',\n",
       " '__contains__',\n",
       " '__delattr__',\n",
       " '__delitem__',\n",
       " '__dir__',\n",
       " '__doc__',\n",
       " '__eq__',\n",
       " '__format__',\n",
       " '__ge__',\n",
       " '__getattribute__',\n",
       " '__getitem__',\n",
       " '__gt__',\n",
       " '__hash__',\n",
       " '__iadd__',\n",
       " '__imul__',\n",
       " '__init__',\n",
       " '__init_subclass__',\n",
       " '__iter__',\n",
       " '__le__',\n",
       " '__len__',\n",
       " '__lt__',\n",
       " '__mul__',\n",
       " '__ne__',\n",
       " '__new__',\n",
       " '__reduce__',\n",
       " '__reduce_ex__',\n",
       " '__repr__',\n",
       " '__reversed__',\n",
       " '__rmul__',\n",
       " '__setattr__',\n",
       " '__setitem__',\n",
       " '__sizeof__',\n",
       " '__str__',\n",
       " '__subclasshook__',\n",
       " 'append',\n",
       " 'clear',\n",
       " 'copy',\n",
       " 'count',\n",
       " 'extend',\n",
       " 'index',\n",
       " 'insert',\n",
       " 'pop',\n",
       " 'remove',\n",
       " 'reverse',\n",
       " 'sort']"
      ]
     },
     "execution_count": 21,
     "metadata": {},
     "output_type": "execute_result"
    }
   ],
   "source": [
    "dir(list) # All List methods"
   ]
  }
 ],
 "metadata": {
  "kernelspec": {
   "display_name": "Python 3",
   "language": "python",
   "name": "python3"
  },
  "language_info": {
   "codemirror_mode": {
    "name": "ipython",
    "version": 3
   },
   "file_extension": ".py",
   "mimetype": "text/x-python",
   "name": "python",
   "nbconvert_exporter": "python",
   "pygments_lexer": "ipython3",
   "version": "3.10.12"
  }
 },
 "nbformat": 4,
 "nbformat_minor": 2
}
