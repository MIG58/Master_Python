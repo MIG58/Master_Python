{
 "cells": [
  {
   "cell_type": "markdown",
   "metadata": {},
   "source": [
    "### Build-In Functions\n",
    "\n",
    "1. type() - used to identify the type of data"
   ]
  },
  {
   "cell_type": "markdown",
   "metadata": {},
   "source": [
    "### Comments"
   ]
  },
  {
   "cell_type": "markdown",
   "metadata": {},
   "source": [
    "`#` - Single Line Comments\n",
    "\n",
    "''' \n",
    " This is Multi-line Comments\n",
    "'''"
   ]
  },
  {
   "cell_type": "markdown",
   "metadata": {},
   "source": [
    "### Escape Sequences"
   ]
  },
  {
   "cell_type": "markdown",
   "metadata": {},
   "source": [
    "- \\' - Single Quote\n",
    "- \\\\ - Backslash\n",
    "- \\n - newline\n",
    "- \\r - carriage return\n",
    "- \\t - Tab \n",
    "- \\b - backspace\n",
    "- \\f - form feed\n",
    "- \\761 - octal (less than 8) ASCII\n",
    "- \\x147 - Hexadecimal value (less than 16) ASCII"
   ]
  },
  {
   "cell_type": "markdown",
   "metadata": {},
   "source": [
    "# Datatypes in Python"
   ]
  },
  {
   "cell_type": "markdown",
   "metadata": {},
   "source": [
    "### 1. Variables & Constants"
   ]
  },
  {
   "cell_type": "code",
   "execution_count": 1,
   "metadata": {},
   "outputs": [
    {
     "name": "stdout",
     "output_type": "stream",
     "text": [
      "A:1 B:1 C:1\n"
     ]
    }
   ],
   "source": [
    "a = 1\n",
    "b = a\n",
    "c = b\n",
    "\n",
    "print(f\"A:{a} B:{b} C:{c}\")"
   ]
  },
  {
   "cell_type": "markdown",
   "metadata": {},
   "source": [
    "### 2. Numbers "
   ]
  },
  {
   "cell_type": "code",
   "execution_count": 10,
   "metadata": {},
   "outputs": [
    {
     "name": "stdout",
     "output_type": "stream",
     "text": [
      "10\n",
      "<class 'int'>\n",
      "1.6666666666666667\n",
      "<class 'float'>\n"
     ]
    }
   ],
   "source": [
    "a = 10\n",
    "print(a)\n",
    "\n",
    "print(type(a))\n",
    "\n",
    "b = 5/3\n",
    "print(b)\n",
    "print(type(b))"
   ]
  },
  {
   "cell_type": "markdown",
   "metadata": {},
   "source": [
    "### 3. Operations on Numbers"
   ]
  },
  {
   "cell_type": "code",
   "execution_count": 12,
   "metadata": {},
   "outputs": [
    {
     "name": "stdout",
     "output_type": "stream",
     "text": [
      "9.5\n"
     ]
    }
   ],
   "source": [
    "# Follows BODMAS RULES\n",
    "'''\n",
    "B: Brackets (Parentheses)\n",
    "O: Orders (Exponents and roots)\n",
    "D: Division\n",
    "M: Multiplication\n",
    "A: Addition\n",
    "S: Subtraction\n",
    "'''\n",
    "\n",
    "a = 3 * 5 - 9 + 7 / 2\n",
    "print(a)"
   ]
  },
  {
   "cell_type": "markdown",
   "metadata": {},
   "source": [
    "BODMAS order of operations:\n",
    "\n",
    "1. First, multiplication: `3 * 5 = 15`\n",
    "2. Then, division: `7 / 2 = 3.5`\n",
    "3. Next, subtraction: `15 - 9 = 6`\n",
    "4. Finally, addition: `6 + 3.5 = 9.5`\n",
    "\n",
    "So, `a` evaluates to `9.5`.\n",
    "\n",
    "`Arithmetic Operations**:\n",
    "- Addition `+`\n",
    "- Subtraction `-`\n",
    "- Multiplication `*`\n",
    "- Division `/`\n",
    "- Floor Division `//`\n",
    "- Modulus `%`\n",
    "- Exponentiation `**`"
   ]
  },
  {
   "cell_type": "markdown",
   "metadata": {},
   "source": [
    "***"
   ]
  },
  {
   "cell_type": "markdown",
   "metadata": {},
   "source": [
    "`round()`"
   ]
  },
  {
   "cell_type": "code",
   "execution_count": 22,
   "metadata": {},
   "outputs": [
    {
     "name": "stdout",
     "output_type": "stream",
     "text": [
      "2\n",
      "3\n",
      "8\n",
      "8\n"
     ]
    }
   ],
   "source": [
    "# Round-Off Method\n",
    "\n",
    "a = 2.4 # Less the .5 \n",
    "print(round(a))\n",
    "\n",
    "a = 2.6 # More than .5\n",
    "print(round(a))\n",
    "\n",
    "a = 8.5 # For Odd value (Remains same)\n",
    "print(round(a))\n",
    "\n",
    "a = 7.5 # For Even Value (Adds 1)\n",
    "print(round(a))"
   ]
  },
  {
   "cell_type": "code",
   "execution_count": 5,
   "metadata": {},
   "outputs": [
    {
     "name": "stdout",
     "output_type": "stream",
     "text": [
      "4\n",
      "0\n",
      "4\n",
      "1.0\n",
      "1\n",
      "0\n"
     ]
    }
   ],
   "source": [
    "### Calculator - Program 1\n",
    "\n",
    "a = int(input(\"Enter the 1st value: \"))\n",
    "b = int(input(\"Enter the 2nd value: \"))\n",
    "\n",
    "# Addition\n",
    "print(a+b)\n",
    "\n",
    "# Subtraction\n",
    "print(a-b)\n",
    "\n",
    "# Multiplication\n",
    "print(a*b)\n",
    "\n",
    "# Division\n",
    "print(a/b)\n",
    "\n",
    "# Floor Division (integer division or Quotient)\n",
    "print(a//b)\n",
    "\n",
    "# Modulus (remainder after division)\n",
    "print(a%b)\n"
   ]
  },
  {
   "cell_type": "markdown",
   "metadata": {},
   "source": [
    "### 4. Type Casting"
   ]
  },
  {
   "cell_type": "markdown",
   "metadata": {},
   "source": [
    "Type casting in Python refers to the process of converting a variable from one data type to another. Python provides several built-in functions for type casting:\n",
    "\n",
    "\n",
    "Type casting allows for flexible manipulation and conversion of data types, which is often useful in various programming scenarios."
   ]
  },
  {
   "cell_type": "code",
   "execution_count": 37,
   "metadata": {},
   "outputs": [
    {
     "name": "stdout",
     "output_type": "stream",
     "text": [
      "Y: <class 'int'>: 5\n",
      "Y: <class 'float'>: 10.0\n",
      "Y: <class 'str'>: 100\n",
      "Y: <class 'bool'>: True\n",
      "List into Tuple & Sets : [1, 2, 3] into (1, 2, 3) & {1, 2, 3}\n",
      "Tuple into Dic: [('a', 1), ('b', 2)] into {'a': 1, 'b': 2}\n"
     ]
    }
   ],
   "source": [
    "# 1. **int()**: Converts a value to an integer data type.\n",
    "\n",
    "x = 5.7\n",
    "y = int(x)  # y will be 5\n",
    "print(f\"Y: {type(y)}: {y}\")\n",
    "\n",
    "# 2. **float()**: Converts a value to a floating-point data type.\n",
    "\n",
    "x = 10\n",
    "y = float(x)  # y will be 10.0\n",
    "print(f\"Y: {type(y)}: {y}\")\n",
    "\n",
    "# 3. **str()**: Converts a value to a string data type.\n",
    "\n",
    "x = 100\n",
    "y = str(x)  # y will be \"100\"\n",
    "print(f\"Y: {type(y)}: {y}\")\n",
    "\n",
    "# 4. **bool()**: Converts a value to a Boolean data type.\n",
    "\n",
    "x = 10\n",
    "y = bool(x)  # y will be False\n",
    "print(f\"Y: {type(y)}: {y}\")\n",
    "\n",
    "# 5. **list()**, **tuple()**, **set()**: Convert an iterable (such as a list, tuple, or set) to the respective data type.\n",
    "\n",
    "my_list = [1, 2, 3]\n",
    "my_tuple = tuple(my_list)  # Convert list to tuple\n",
    "my_set = set(my_list)  # Convert list to set\n",
    "\n",
    "print(f\"List into Tuple & Sets : {my_list} into {my_tuple} & {my_set}\")\n",
    "\n",
    "\n",
    "\n",
    "\n",
    "# 6. **dict()**: Convert a sequence of key-value pairs into a dictionary.\n",
    "\n",
    "my_list = [('a', 1), ('b', 2)]\n",
    "my_dict = dict(my_list)  # Convert list of tuples to dictionary\n",
    "\n",
    "\n",
    "print(f\"Tuple into Dic: {my_list} into {my_dict}\")\n"
   ]
  },
  {
   "cell_type": "markdown",
   "metadata": {},
   "source": [
    "#### All built-in type casting functions available:\n",
    "\n",
    "1. `int(x, base=10)`: Converts x to an integer. The base parameter specifies the base to which x is converted (default is 10).\n",
    "\n",
    "2. `float(x)`: Converts x to a floating-point number.\n",
    "\n",
    "3. `str(x)`: Converts x to a string.\n",
    "\n",
    "4. `bool(x)`: Converts x to a Boolean value.\n",
    "\n",
    "5. `list(iterable)`: Converts an iterable (such as a list, tuple, string, etc.) to a list.\n",
    "\n",
    "6. `tuple(iterable)`: Converts an iterable to a tuple.\n",
    "\n",
    "7. `set(iterable)`: Converts an iterable to a set.\n",
    "\n",
    "8. `dict(mapping or iterable, \\*\\*kwargs)`: Converts a dictionary's contents as a sequence of key-value pairs to a dictionary. If a mapping (like another dictionary) is provided, it creates a shallow copy of it. If an iterable of key-value pairs is provided, it creates a dictionary from those pairs. Optionally, keyword arguments can be provided to add additional key-value pairs to the dictionary.\n",
    "\n",
    "9. `complex(real, imag)`: Constructs a complex number with the value real + imag*1j or converts a string or number to a complex number.\n",
    "\n",
    "These functions provide convenient ways to convert values between different data types in Python."
   ]
  },
  {
   "cell_type": "markdown",
   "metadata": {},
   "source": [
    "In Python, type casting can occur implicitly or explicitly:\n",
    "\n",
    "1. **Implicit Casting**:\n",
    "   Implicit type casting, also known as automatic type conversion, happens automatically during the execution of operations. Python performs implicit type casting when it's required to operate on values of different types. For example, when you add an integer and a floating-point number, Python automatically converts the integer to a float before performing the addition. Similarly, when you multiply an integer and a string, Python implicitly repeats the string the specified number of times.\n",
    "\n",
    "   ```python\n",
    "   a = 5       # Integer\n",
    "   b = 2.5     # Float\n",
    "   result = a + b   # Implicit casting of 'a' to float before addition\n",
    "   print(result)    # Output will be 7.5\n",
    "   ```\n",
    "\n",
    "2. **Explicit Casting**:\n",
    "   Explicit type casting, also known as type conversion, is done explicitly by the programmer using built-in functions like `int()`, `float()`, `str()`, etc. This allows you to convert a value from one data type to another as needed. For example, you can convert a string to an integer using the `int()` function, or a float to a string using the `str()` function.\n",
    "\n",
    "   ```python\n",
    "   x = \"10\"    # String\n",
    "   y = int(x)  # Explicitly convert 'x' from string to integer\n",
    "   print(y)    # Output will be 10\n",
    "   ```\n",
    "\n",
    "Explicit casting gives you more control over the data type conversion process and is useful when you need to ensure the desired behavior of your code."
   ]
  },
  {
   "cell_type": "markdown",
   "metadata": {},
   "source": [
    "### 5. Strings"
   ]
  },
  {
   "cell_type": "code",
   "execution_count": 38,
   "metadata": {},
   "outputs": [
    {
     "name": "stdout",
     "output_type": "stream",
     "text": [
      "Hello, world!\n",
      "Hello, Python!\n",
      "This is a multiline\n",
      "string in Python.\n",
      "It can span across multiple lines.\n",
      "H\n",
      "!\n",
      "llo,\n",
      "Hello, world! Hello, Python!\n",
      "14\n",
      "Hello, world!Hello, world!Hello, world!\n",
      "My name is Alice and I am 30 years old.\n"
     ]
    }
   ],
   "source": [
    "# Define a string using single quotes\n",
    "string_single = 'Hello, world!'\n",
    "\n",
    "# Define a string using double quotes\n",
    "string_double = \"Hello, Python!\"\n",
    "\n",
    "# Define a multiline string using triple quotes\n",
    "multiline_string = \"\"\"This is a multiline\n",
    "string in Python.\n",
    "It can span across multiple lines.\"\"\"\n",
    "\n",
    "# Accessing characters in a string\n",
    "first_character = string_single[0]  # Access the first character\n",
    "last_character = string_single[-1]   # Access the last character\n",
    "\n",
    "# String slicing\n",
    "substring = string_double[2:6]  # Extract characters from index 2 to 5\n",
    "\n",
    "# String concatenation\n",
    "concatenated_string = string_single + \" \" + string_double\n",
    "\n",
    "# String length\n",
    "string_length = len(string_double)\n",
    "\n",
    "# String repetition\n",
    "repeated_string = string_single * 3  # Repeat the string three times\n",
    "\n",
    "# String formatting using f-strings (available in Python 3.6+)\n",
    "name = \"Alice\"\n",
    "age = 30\n",
    "formatted_string = f\"My name is {name} and I am {age} years old.\"\n",
    "\n",
    "# Printing strings\n",
    "print(string_single)\n",
    "print(string_double)\n",
    "print(multiline_string)\n",
    "print(first_character)\n",
    "print(last_character)\n",
    "print(substring)\n",
    "print(concatenated_string)\n",
    "print(string_length)\n",
    "print(repeated_string)\n",
    "print(formatted_string)\n"
   ]
  },
  {
   "cell_type": "markdown",
   "metadata": {},
   "source": [
    "# Operators in Python"
   ]
  },
  {
   "cell_type": "markdown",
   "metadata": {},
   "source": [
    "1. **Arithmetic Operators**:\n",
    "- Addition `+`\n",
    "- Subtraction `-`\n",
    "- Multiplication `*`\n",
    "- Division `/`\n",
    "- Floor Division `//`\n",
    "- Modulus `%`\n",
    "- Exponentiation `**`\n",
    "\n",
    "2. **Comparison Operators**:\n",
    "- Equal to `==`\n",
    "- Not equal to `!=`\n",
    "- Greater than `>`\n",
    "- Less than `<`\n",
    "- Greater than or equal to `>=`\n",
    "- Less than or equal to `<=`\n",
    "\n",
    "3. **Logical Operators**:\n",
    "- Logical AND `and`\n",
    "- Logical OR `or`\n",
    "- Logical NOT `not`\n",
    "\n",
    "4. **Assignment / Shorthand Operators**:\n",
    "- Assignment `=`\n",
    "- Addition assignment `+=`\n",
    "- Subtraction assignment `-=` \n",
    "- Multiplication assignment `*=`\n",
    "- Division assignment `/=`\n",
    "- Floor division assignment `//=`\n",
    "- Modulus assignment `%=`\n",
    "- Exponentiation assignment `**=`\n",
    "\n",
    "5. **Identity Operators**:\n",
    "- Identity `is`\n",
    "- Not identity `is not`\n",
    "\n",
    "6. **Membership Operators**:\n",
    "- Membership `in`\n",
    "- Not membership `not in`\n",
    "\n",
    "7. **Bitwise Operators**:\n",
    "- Bitwise AND `&`\n",
    "- Bitwise OR `|`\n",
    "- Bitwise XOR `^`\n",
    "- Bitwise NOT `~`\n",
    "- Left shift `<<`\n",
    "- Right shift `>>`\n"
   ]
  }
 ],
 "metadata": {
  "kernelspec": {
   "display_name": "Python 3",
   "language": "python",
   "name": "python3"
  },
  "language_info": {
   "codemirror_mode": {
    "name": "ipython",
    "version": 3
   },
   "file_extension": ".py",
   "mimetype": "text/x-python",
   "name": "python",
   "nbconvert_exporter": "python",
   "pygments_lexer": "ipython3",
   "version": "3.10.12"
  }
 },
 "nbformat": 4,
 "nbformat_minor": 2
}
