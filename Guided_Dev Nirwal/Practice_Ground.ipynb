{
 "cells": [
  {
   "cell_type": "code",
   "execution_count": 7,
   "metadata": {},
   "outputs": [
    {
     "name": "stdout",
     "output_type": "stream",
     "text": [
      "ello\n",
      "lo W\n",
      "ello World\n",
      "d\n",
      "l\n",
      "o Worl\n",
      "dlroW olleH\n",
      "Hello\n"
     ]
    }
   ],
   "source": [
    "# Slicing of String\n",
    "\n",
    "a = \"Hello World\"\n",
    "\n",
    "print(a[1:5])\n",
    "print(a[3:7])\n",
    "print(a[1:])\n",
    "print(a[-1])\n",
    "print(a[-2])\n",
    "print(a[-7:-1])\n",
    "print(a[::-1]) # Reverse of String\n",
    "print(a[:5]) # Spliting of Text (Tricks)\n"
   ]
  },
  {
   "cell_type": "code",
   "execution_count": 9,
   "metadata": {},
   "outputs": [
    {
     "name": "stdout",
     "output_type": "stream",
     "text": [
      "My Name is Michael and I earn $5000 from Bug Hunting per Month\n"
     ]
    }
   ],
   "source": [
    "# String Formating\n",
    "x = ['Michael','Bug Hunting',5000]\n",
    "z = f\"My Name is {x[0]} and I earn ${x[2]} from {x[1]} per Month\"\n",
    "print(z)"
   ]
  }
 ],
 "metadata": {
  "kernelspec": {
   "display_name": "Python 3",
   "language": "python",
   "name": "python3"
  },
  "language_info": {
   "codemirror_mode": {
    "name": "ipython",
    "version": 3
   },
   "file_extension": ".py",
   "mimetype": "text/x-python",
   "name": "python",
   "nbconvert_exporter": "python",
   "pygments_lexer": "ipython3",
   "version": "3.10.12"
  }
 },
 "nbformat": 4,
 "nbformat_minor": 2
}
